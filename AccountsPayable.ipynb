{
 "cells": [
  {
   "cell_type": "raw",
   "metadata": {},
   "source": []
  },
  {
   "cell_type": "markdown",
   "metadata": {},
   "source": [
    "# Spark SQL\n",
    "- You can run SQL queries against views or tables organized into databases\n",
    "- You also can use system functions or define user functions and analyze query plans in order to optimize their workloads.\n",
    "- This integrates directly into the DataFrame and Dataset API\n",
    "- You can choose to express some of your data manipulations in SQL and others in DataFrames"
   ]
  },
  {
   "cell_type": "code",
   "execution_count": 1,
   "metadata": {},
   "outputs": [],
   "source": [
    "# Import depedicies\n",
    "from pyspark.sql import SparkSession\n",
    "from pyspark.sql import *\n",
    "from pyspark.sql.functions import *\n",
    "from pyspark.sql.types import *\n",
    "from pyspark import SparkContext\n",
    "sc = SparkContext.getOrCreate()\n",
    "spark =SparkSession(sc)"
   ]
  },
  {
   "cell_type": "markdown",
   "metadata": {},
   "source": [
    "# SQL Syntax of SELECT statement\n",
    "- SELECT select_list\n",
    "- FROM table_source\n",
    "- WHERE search_condition\n",
    "- GROUP BY group_by_list\n",
    "- HAVING search_condition\n",
    "- ORDER BY order_bylist"
   ]
  },
  {
   "cell_type": "code",
   "execution_count": 2,
   "metadata": {},
   "outputs": [],
   "source": [
    "# Create a new DataFrame and register as a temporary view to query it in SQL(SQL trasformations)\n",
    "# For Quering in SQL, name the SQL dataset table dfTable\n",
    "df = spark.read.format(\"csv\")\\\n",
    ".option(\"header\", \"true\")\\\n",
    ".option(\"inferSchema\", \"true\")\\\n",
    ".load(\"Resources/Vendors.csv\")\\\n",
    ".coalesce(5) # reduce the number of partitions avoiding network shuffle\n",
    "df.cache() # speed up performance\n",
    "df.createOrReplaceTempView(\"Vendors\")"
   ]
  },
  {
   "cell_type": "code",
   "execution_count": 4,
   "metadata": {},
   "outputs": [
    {
     "name": "stdout",
     "output_type": "stream",
     "text": [
      "root\n",
      " |-- VendorID: integer (nullable = true)\n",
      " |-- VendorName: string (nullable = true)\n",
      " |-- VendorAddress1: string (nullable = true)\n",
      " |-- VendorAddress2: string (nullable = true)\n",
      " |-- VendorCity: string (nullable = true)\n",
      " |-- VendorState: string (nullable = true)\n",
      " |-- VendorZipCode: integer (nullable = true)\n",
      " |-- VendorPhone: string (nullable = true)\n",
      " |-- VendorContactLName: string (nullable = true)\n",
      " |-- VendorContactFName: string (nullable = true)\n",
      " |-- DefaultTermsID: integer (nullable = true)\n",
      " |-- DefaultAccountNo: integer (nullable = true)\n",
      "\n",
      "+--------+--------------------+--------------------+--------------+-----------+-----------+-------------+--------------+------------------+------------------+--------------+----------------+\n",
      "|VendorID|          VendorName|      VendorAddress1|VendorAddress2| VendorCity|VendorState|VendorZipCode|   VendorPhone|VendorContactLName|VendorContactFName|DefaultTermsID|DefaultAccountNo|\n",
      "+--------+--------------------+--------------------+--------------+-----------+-----------+-------------+--------------+------------------+------------------+--------------+----------------+\n",
      "|       1|   US Postal Service|Attn:  Supt. Wind...|   PO Box 7005|    Madison|         WI|        53707|(800) 555-1205|           Alberto|         Francesco|             1|             552|\n",
      "|       2|National Informat...|        PO Box 96621|          null| Washington|         DC|        20090|(301) 555-8950|             Irvin|              Ania|             3|             540|\n",
      "|       3|Register of Copyr...| Library Of Congress|          null| Washington|         DC|        20559|          null|             Liana|             Lukas|             3|             403|\n",
      "|       4|             Jobtrak|1990 Westwood Blv...|          null|Los Angeles|         CA|        90025|(800) 555-8725|             Quinn|            Kenzie|             3|             572|\n",
      "|       5| Newbrige Book Clubs|   3000 Cindel Drive|          null| Washington|         NJ|         7882|(800) 555-9980|             Marks|          Michelle|             4|             394|\n",
      "+--------+--------------------+--------------------+--------------+-----------+-----------+-------------+--------------+------------------+------------------+--------------+----------------+\n",
      "only showing top 5 rows\n",
      "\n",
      "+-------+------------------+------------+-------------------+-----------------+----------+-----------+-----------------+--------------+------------------+------------------+------------------+------------------+\n",
      "|summary|          VendorID|  VendorName|     VendorAddress1|   VendorAddress2|VendorCity|VendorState|    VendorZipCode|   VendorPhone|VendorContactLName|VendorContactFName|    DefaultTermsID|  DefaultAccountNo|\n",
      "+-------+------------------+------------+-------------------+-----------------+----------+-----------+-----------------+--------------+------------------+------------------+------------------+------------------+\n",
      "|  count|               122|         122|                120|               19|       122|        122|              122|            97|               122|               122|               122|               122|\n",
      "|   mean|62.278688524590166|        null|               null|             null|      null|       null|72606.68032786885|          null|              null|              null|2.6639344262295084| 511.4590163934426|\n",
      "| stddev| 35.66331594300987|        null|               null|             null|      null|       null|30709.57845736728|          null|              null|              null| 0.819298790467335|108.96509013645611|\n",
      "|    min|                 1|   ASC Signs|\"1627 \"\"E\"\" Street\"|1150 N Tustin Ave|   Anaheim|         AZ|             2107|(201) 555-9742|          Aaronsen|             Aaron|                 1|               150|\n",
      "|    max|               123|Zylka Design| Secretary Of State|          Suite F|Washington|         WI|            95887|(947) 555-3900|            Yobani|               Zev|                 5|               631|\n",
      "+-------+------------------+------------+-------------------+-----------------+----------+-----------+-----------------+--------------+------------------+------------------+------------------+------------------+\n",
      "\n",
      "DataFrame[VendorID: int, VendorName: string, VendorAddress1: string, VendorAddress2: string, VendorCity: string, VendorState: string, VendorZipCode: int, VendorPhone: string, VendorContactLName: string, VendorContactFName: string, DefaultTermsID: int, DefaultAccountNo: int]\n"
     ]
    }
   ],
   "source": [
    "def df_information(df):\n",
    "    df.printSchema()\n",
    "    df.show(5)\n",
    "    df.describe().show()\n",
    "    df.dtypes\n",
    "    return(df)\n",
    "    \n",
    "print(df_information(df))"
   ]
  },
  {
   "cell_type": "code",
   "execution_count": 87,
   "metadata": {},
   "outputs": [
    {
     "name": "stdout",
     "output_type": "stream",
     "text": [
      "+---------+-------------------+\n",
      "|AccountNo| AccountDescription|\n",
      "+---------+-------------------+\n",
      "|      100|               Cash|\n",
      "|      110|Accounts Receivable|\n",
      "|      120|     Book Inventory|\n",
      "|      150|          Furniture|\n",
      "|      160| Computer Equipment|\n",
      "+---------+-------------------+\n",
      "only showing top 5 rows\n",
      "\n"
     ]
    }
   ],
   "source": [
    "df.na.drop(\"any\").show(5)"
   ]
  },
  {
   "cell_type": "code",
   "execution_count": 4,
   "metadata": {},
   "outputs": [],
   "source": [
    "# Create a new DataFrame and register as a temporary view to query it in SQL(SQL trasformations)\n",
    "# For Quering in SQL, name the SQL dataset table dfTable\n",
    "df = spark.read.format(\"csv\")\\\n",
    ".option(\"header\", \"true\")\\\n",
    ".option(\"inferSchema\", \"true\")\\\n",
    ".load(\"Resources/Invoices.csv\")\\\n",
    ".coalesce(5)\n",
    "df.cache()\n",
    "df.createOrReplaceTempView(\"Invoices\")"
   ]
  },
  {
   "cell_type": "code",
   "execution_count": 88,
   "metadata": {},
   "outputs": [
    {
     "name": "stdout",
     "output_type": "stream",
     "text": [
      "+---------+-------------------+\n",
      "|AccountNo| AccountDescription|\n",
      "+---------+-------------------+\n",
      "|      100|               Cash|\n",
      "|      110|Accounts Receivable|\n",
      "|      120|     Book Inventory|\n",
      "|      150|          Furniture|\n",
      "|      160| Computer Equipment|\n",
      "+---------+-------------------+\n",
      "only showing top 5 rows\n",
      "\n"
     ]
    }
   ],
   "source": [
    "df.na.drop(\"any\").show(5)"
   ]
  },
  {
   "cell_type": "code",
   "execution_count": 89,
   "metadata": {},
   "outputs": [
    {
     "name": "stdout",
     "output_type": "stream",
     "text": [
      "+---------+--------+-------------+-------------------+------------+------------+-----------+-------+-------------------+-------------------+\n",
      "|InvoiceID|VendorID|InvoiceNumber|        InvoiceDate|InvoiceTotal|PaymentTotal|CreditTotal|TermsID|     InvoiceDueDate|        PaymentDate|\n",
      "+---------+--------+-------------+-------------------+------------+------------+-----------+-------+-------------------+-------------------+\n",
      "|        1|     122|   989319-457|2011-12-08 00:00:00|   $3,813.33|   $3,813.33|      $0.00|      3|2012-01-08 00:00:00|2012-01-07 00:00:00|\n",
      "|        2|     123|    263253241|2011-12-10 00:00:00|      $40.20|      $40.20|      $0.00|      3|2012-01-10 00:00:00|2012-01-14 00:00:00|\n",
      "|        3|     123|    963253234|2011-12-13 00:00:00|     $138.75|     $138.75|      $0.00|      3|2012-01-13 00:00:00|2012-01-09 00:00:00|\n",
      "|        4|     123|   2-000-2993|2011-12-16 00:00:00|     $144.70|     $144.70|      $0.00|      3|2012-01-16 00:00:00|2012-01-12 00:00:00|\n",
      "|        5|     123|    963253251|2011-12-16 00:00:00|      $15.50|      $15.50|      $0.00|      3|2012-01-16 00:00:00|2012-01-11 00:00:00|\n",
      "+---------+--------+-------------+-------------------+------------+------------+-----------+-------+-------------------+-------------------+\n",
      "\n"
     ]
    }
   ],
   "source": [
    "spark.sql(\"\"\"\n",
    "SELECT * \n",
    "FROM Invoices\n",
    "LIMIT 5\n",
    "\"\"\").show()"
   ]
  },
  {
   "cell_type": "code",
   "execution_count": 6,
   "metadata": {},
   "outputs": [],
   "source": [
    "# Create a new DataFrame and register as a temporary view to query it in SQL(SQL trasformations)\n",
    "# For Quering in SQL, name the SQL dataset table dfTable\n",
    "df = spark.read.format(\"csv\")\\\n",
    ".option(\"header\", \"true\")\\\n",
    ".option(\"inferSchema\", \"true\")\\\n",
    ".load(\"Resources/InvoiceLineItems.csv\")\\\n",
    ".coalesce(5)\n",
    "df.cache()\n",
    "df.createOrReplaceTempView(\"InvoiceLineItems\")"
   ]
  },
  {
   "cell_type": "code",
   "execution_count": 90,
   "metadata": {},
   "outputs": [
    {
     "name": "stdout",
     "output_type": "stream",
     "text": [
      "+---------+-------------------+\n",
      "|AccountNo| AccountDescription|\n",
      "+---------+-------------------+\n",
      "|      100|               Cash|\n",
      "|      110|Accounts Receivable|\n",
      "|      120|     Book Inventory|\n",
      "|      150|          Furniture|\n",
      "|      160| Computer Equipment|\n",
      "+---------+-------------------+\n",
      "only showing top 5 rows\n",
      "\n"
     ]
    }
   ],
   "source": [
    "df.na.drop(\"any\").show(5)"
   ]
  },
  {
   "cell_type": "code",
   "execution_count": 8,
   "metadata": {},
   "outputs": [],
   "source": [
    "# Create a new DataFrame and register as a temporary view to query it in SQL(SQL trasformations)\n",
    "# For Quering in SQL, name the SQL dataset table dfTable\n",
    "df = spark.read.format(\"csv\")\\\n",
    ".option(\"header\", \"true\")\\\n",
    ".option(\"inferSchema\", \"true\")\\\n",
    ".load(\"Resources/GLAccounts.csv\")\\\n",
    ".coalesce(5)\n",
    "df.cache()\n",
    "df.createOrReplaceTempView(\"GLAccounts\")"
   ]
  },
  {
   "cell_type": "code",
   "execution_count": 91,
   "metadata": {},
   "outputs": [
    {
     "name": "stdout",
     "output_type": "stream",
     "text": [
      "+---------+-------------------+\n",
      "|AccountNo| AccountDescription|\n",
      "+---------+-------------------+\n",
      "|      100|               Cash|\n",
      "|      110|Accounts Receivable|\n",
      "|      120|     Book Inventory|\n",
      "|      150|          Furniture|\n",
      "|      160| Computer Equipment|\n",
      "+---------+-------------------+\n",
      "only showing top 5 rows\n",
      "\n"
     ]
    }
   ],
   "source": [
    "df.na.drop(\"any\").show(5)"
   ]
  },
  {
   "cell_type": "code",
   "execution_count": 10,
   "metadata": {},
   "outputs": [
    {
     "name": "stdout",
     "output_type": "stream",
     "text": [
      "+-------------+--------------------+\n",
      "|InvoiceNumber|          VendorName|\n",
      "+-------------+--------------------+\n",
      "|      Q545443|                 IBM|\n",
      "|      QP58872|                 IBM|\n",
      "|    547480102|          Blue Cross|\n",
      "|    547479217|          Blue Cross|\n",
      "|    547481328|          Blue Cross|\n",
      "|  P02-88D77S7|Fresno County Tax...|\n",
      "|        39104|Data Reproduction...|\n",
      "|        40318|Data Reproduction...|\n",
      "+-------------+--------------------+\n",
      "only showing top 8 rows\n",
      "\n"
     ]
    }
   ],
   "source": [
    "# Join the vendos and invoice tables at VendorID\n",
    "spark.sql(\"\"\"\n",
    "SELECT InvoiceNumber, VendorName\n",
    "FROM Vendors AS V\n",
    "JOIN Invoices AS I\n",
    "ON V.VendorID =I.VendorID\n",
    "\"\"\").show(8)"
   ]
  },
  {
   "cell_type": "code",
   "execution_count": 11,
   "metadata": {},
   "outputs": [
    {
     "name": "stdout",
     "output_type": "stream",
     "text": [
      "+-------------+-------------------+------------+\n",
      "|InvoiceNumber|        InvoiceDate|InvoiceTotal|\n",
      "+-------------+-------------------+------------+\n",
      "|   989319-457|2011-12-08 00:00:00|   $3,813.33|\n",
      "|    263253241|2011-12-10 00:00:00|      $40.20|\n",
      "|    963253234|2011-12-13 00:00:00|     $138.75|\n",
      "|   2-000-2993|2011-12-16 00:00:00|     $144.70|\n",
      "|    963253251|2011-12-16 00:00:00|      $15.50|\n",
      "+-------------+-------------------+------------+\n",
      "only showing top 5 rows\n",
      "\n"
     ]
    }
   ],
   "source": [
    "# join invoices and InvoiceLineItems table on 'InvoiceID'\n",
    "spark.sql(\"\"\"\n",
    "SELECT InvoiceNumber, InvoiceDate, InvoiceTotal\n",
    "FROM Invoices I\n",
    "JOIN InvoiceLineItems AS LI\n",
    "ON I.InvoiceID = LI.InvoiceID\n",
    "\"\"\").show(5)"
   ]
  },
  {
   "cell_type": "code",
   "execution_count": 12,
   "metadata": {},
   "outputs": [
    {
     "name": "stdout",
     "output_type": "stream",
     "text": [
      "+-------------+-------------------+------------+---------------------+\n",
      "|InvoiceNumber|        InvoiceDate|InvoiceTotal|InvoiceLineItemAmount|\n",
      "+-------------+-------------------+------------+---------------------+\n",
      "|       97/522|2012-02-28 00:00:00|   $1,962.13|            $1,197.00|\n",
      "|   I77271-O01|2011-12-26 00:00:00|     $662.00|              $478.00|\n",
      "|   I77271-O01|2011-12-26 00:00:00|     $662.00|               $50.00|\n",
      "|   I77271-O01|2011-12-26 00:00:00|     $662.00|               $58.40|\n",
      "+-------------+-------------------+------------+---------------------+\n",
      "\n"
     ]
    }
   ],
   "source": [
    "# Return columns Invoices;InvoiceNumber, InvoiceDate, InvoiceTotal. InvoiceLineItems; InvoiceLineItemAmount\n",
    "# Join Invoices on InvoiceLineItems\n",
    "spark.sql(\"\"\"\n",
    "SELECT InvoiceNumber, InvoiceDate, InvoiceTotal, LI.InvoiceLineItemAmount\n",
    "FROM Invoices IN\n",
    "JOIN InvoiceLineItems AS LI\n",
    "ON IN.InvoiceID = LI.InvoiceID\n",
    "WHERE IN.InvoiceTotal > LI.InvoiceLineItemAmount\n",
    "ORDER BY InvoiceNumber\n",
    "\n",
    "\"\"\").show(5)"
   ]
  },
  {
   "cell_type": "code",
   "execution_count": 101,
   "metadata": {},
   "outputs": [
    {
     "name": "stdout",
     "output_type": "stream",
     "text": [
      "+--------------------+-------------+------------+-------+\n",
      "|          VendorName|InvoiceNumber|InvoiceTotal|Balance|\n",
      "+--------------------+-------------+------------+-------+\n",
      "|Abbey Office Furn...|    203339-13|      $17.50|   null|\n",
      "|Bertelsmann Indus...|       509786|   $6,940.25|   null|\n",
      "|          Blue Cross|    547479217|     $116.00|   null|\n",
      "|          Blue Cross|    547481328|     $224.00|   null|\n",
      "|          Blue Cross|    547480102|     $224.00|   null|\n",
      "+--------------------+-------------+------------+-------+\n",
      "only showing top 5 rows\n",
      "\n"
     ]
    }
   ],
   "source": [
    "# Return columns Vendors; VendorName, Invoices; InvoiceNumber, InvoiceTotal, PaymentTotal - CreditTotal AS Balance\n",
    "\n",
    "spark.sql(\"\"\"\n",
    "select VendorName, I.InvoiceNumber, I.InvoiceTotal,InvoiceTotal - PaymentTotal - CreditTotal AS Balance\n",
    "from Vendors AS V\n",
    "JOIN Invoices AS I\n",
    "ON V.VendorID = I.VendorId\n",
    "ORDER BY VendorName\n",
    "\"\"\").show(5)"
   ]
  },
  {
   "cell_type": "code",
   "execution_count": 14,
   "metadata": {},
   "outputs": [
    {
     "name": "stdout",
     "output_type": "stream",
     "text": [
      "+--------------------+----------------+-------------------+\n",
      "|          VendorName|DefaultAccountNo| AccountDescription|\n",
      "+--------------------+----------------+-------------------+\n",
      "|Dristas Groom & M...|             591|         Accounting|\n",
      "|         DMV Renewal|             568|   Auto License Fee|\n",
      "| Newbrige Book Clubs|             394|Book Club Royalties|\n",
      "|Bertelsmann Indus...|             400|Book Printing Costs|\n",
      "|Courier Companies...|             400|Book Printing Costs|\n",
      "+--------------------+----------------+-------------------+\n",
      "only showing top 5 rows\n",
      "\n"
     ]
    }
   ],
   "source": [
    "# Return three columns Vendors; VendorName, DefaultAccountNo. GLAccounts; AccountDescription\n",
    "# the result set should have one row for each vendor, with th account number and account description\n",
    "# for that vendor's default account number\n",
    "# sort by AccountDescription, VendorName\n",
    "spark.sql(\"\"\"\n",
    "select V.VendorName, V.DefaultAccountNo, GL.AccountDescription\n",
    "FROM Vendors AS V\n",
    "JOIN GLAccounts AS GL\n",
    "ON V.DefaultAccountNo = GL.AccountNo\n",
    "ORDER BY AccountDescription, VendorName\n",
    "\"\"\").show(5)"
   ]
  },
  {
   "cell_type": "code",
   "execution_count": 15,
   "metadata": {},
   "outputs": [
    {
     "name": "stdout",
     "output_type": "stream",
     "text": [
      "+---------+---------------+---------+---------------------+--------------------------+\n",
      "|InvoiceID|InvoiceSequence|AccountNo|InvoiceLineItemAmount|InvoiceLineItemDescription|\n",
      "+---------+---------------+---------+---------------------+--------------------------+\n",
      "|        1|              1|      553|            $3,813.33|                   Freight|\n",
      "|        2|              1|      553|               $40.20|                   Freight|\n",
      "|        3|              1|      553|              $138.75|                   Freight|\n",
      "|        4|              1|      553|              $144.70|            Int'l shipment|\n",
      "|        5|              1|      553|               $15.50|                   Freight|\n",
      "+---------+---------------+---------+---------------------+--------------------------+\n",
      "only showing top 5 rows\n",
      "\n"
     ]
    }
   ],
   "source": [
    "spark.sql(\"\"\"\n",
    "SELECT *\n",
    "FROM InvoiceLineItems\n",
    "\"\"\").show(5)"
   ]
  },
  {
   "cell_type": "code",
   "execution_count": 16,
   "metadata": {},
   "outputs": [
    {
     "name": "stdout",
     "output_type": "stream",
     "text": [
      "+--------------------+-------------------+----------+---------+\n",
      "|              Vendor|               Date|    Number| LineItem|\n",
      "+--------------------+-------------------+----------+---------+\n",
      "|United Parcel Ser...|2011-12-08 00:00:00|989319-457|$3,813.33|\n",
      "|Federal Express C...|2011-12-10 00:00:00| 263253241|   $40.20|\n",
      "|Federal Express C...|2011-12-13 00:00:00| 963253234|  $138.75|\n",
      "|Federal Express C...|2011-12-16 00:00:00|2-000-2993|  $144.70|\n",
      "|Federal Express C...|2011-12-16 00:00:00| 963253251|   $15.50|\n",
      "+--------------------+-------------------+----------+---------+\n",
      "only showing top 5 rows\n",
      "\n"
     ]
    }
   ],
   "source": [
    "# Write a select statements the retuns five columns from three tables using alias\n",
    "# Vendor VendorName column, Date InvoiceDate column, Number invoicenumber column, LineItem, InvoiceLineItemamount column\n",
    "# Tables Vendors, Invoices, InvoiceLineItems Table\n",
    "# sort by Vendor, Date, Number\n",
    "spark.sql(\"\"\"\n",
    "SELECT VendorName AS Vendor, InvoiceDate AS Date, InvoiceNumber AS Number, InvoiceLineItemAmount AS LineItem\n",
    "FROM Vendors AS V\n",
    "JOIN Invoices AS I\n",
    "ON V.VendorID = I.VendorID\n",
    "JOIN InvoiceLineItems AS LI\n",
    "ON I.InvoiceID = LI.InvoiceID\n",
    "\"\"\").show(5)"
   ]
  },
  {
   "cell_type": "code",
   "execution_count": 23,
   "metadata": {},
   "outputs": [
    {
     "name": "stdout",
     "output_type": "stream",
     "text": [
      "+--------+-----+\n",
      "|VendorID|Total|\n",
      "+--------+-----+\n",
      "+--------+-----+\n",
      "\n"
     ]
    }
   ],
   "source": [
    "# Calculate the average invoice amount(InvoiceTotal) by vendorID, Invoices table\n",
    "# With average invoice total > 2000 sort by Average Invoice Amount\n",
    "spark.sql(\"\"\"\n",
    "SELECT VendorID, AVG(InvoiceTotal) AS Total\n",
    "FROM Invoices\n",
    "GROUP BY VendorID\n",
    "HAVING Total < 20000\n",
    "ORDER BY Total\n",
    "\"\"\").show()"
   ]
  },
  {
   "cell_type": "code",
   "execution_count": 19,
   "metadata": {},
   "outputs": [
    {
     "name": "stdout",
     "output_type": "stream",
     "text": [
      "+-----------+----------+--------+-------+\n",
      "|VendorState|VendorCity|Quantity|Average|\n",
      "+-----------+----------+--------+-------+\n",
      "|         CA|    Fresno|      19|   null|\n",
      "|         TN|   Memphis|      47|   null|\n",
      "+-----------+----------+--------+-------+\n",
      "\n"
     ]
    }
   ],
   "source": [
    "# Summary query that calculates the number of invoices and the average invoiceTotal amount for the vendors in\n",
    "# each state and city, columns VendorState, VendorCity. tables Invoices, Vendors. Invoicetotal > 12\n",
    "spark.sql(\"\"\"\n",
    "SELECT VendorState, VendorCity, COUNT(*) AS Quantity, AVG(InvoiceTotal) AS Average\n",
    "FROM  Invoices AS I\n",
    "JOIN Vendors AS V\n",
    "ON I.VendorID = V.VendorID\n",
    "GROUP BY VendorState, VendorCity\n",
    "HAVING Quantity >= 12\n",
    "ORDER BY VendorState, VendorCity\n",
    "\"\"\").show()"
   ]
  },
  {
   "cell_type": "code",
   "execution_count": 60,
   "metadata": {},
   "outputs": [
    {
     "name": "stdout",
     "output_type": "stream",
     "text": [
      "+--------+---+----------+\n",
      "|VendorID|Qty|     Total|\n",
      "+--------+---+----------+\n",
      "|     123| 39|   $739.20|\n",
      "|     122|  8| $3,689.99|\n",
      "|     121|  7|   $953.10|\n",
      "|     115|  4|     $6.00|\n",
      "|     110|  5|$37,966.19|\n",
      "|      95|  5|    $46.21|\n",
      "|      37|  3|   $224.00|\n",
      "+--------+---+----------+\n",
      "\n"
     ]
    }
   ],
   "source": [
    "# Return the number of Vendors and to Highest InvoiceNumbers for Invoices\n",
    "# Select the date 2012, count > 1. Sort in Descending order\n",
    "spark.sql(\"\"\"\n",
    "SELECT VendorID,  COUNT(*) As Qty, Max(InvoiceTotal) AS Total\n",
    "FROM Invoices\n",
    "WHERE InvoiceDate BETWEEN '2012-01-01' AND '2012-12-31'\n",
    "GROUP BY VendorID\n",
    "HAVING Qty > 2 \n",
    "ORDER BY VendorId DESC\n",
    "\"\"\").show()"
   ]
  },
  {
   "cell_type": "markdown",
   "metadata": {},
   "source": [
    "# Summary\n",
    "- GROUP BY is used with Aggregrates( sum, count, max,min)\n",
    "- SELECT InvoiceNumber, COUNT(*) you are counting the number of InvoiceNumbers\n",
    "- SELECT VendorState, VendorCity COUNT(*) you are counting the number of VendorState, VendorCity\n",
    "- SELECT VendorCity, AVG(InvoiceTotal) you are finding the average of the InvoiceTotal column\n",
    "- SELECT VendorCity, SUM(InvoiceNumber) you are finding the the TOTAL amount in the InvoiceNumber column\n",
    "- GROUP WITH ROLL UP : Adds a summary row(total) to each GROUP\n",
    "- GROUP BY WITH CUBE: Add a summary row(total) at the end\n",
    "- JOINS the are usually : ON "
   ]
  },
  {
   "cell_type": "code",
   "execution_count": 73,
   "metadata": {},
   "outputs": [
    {
     "name": "stdout",
     "output_type": "stream",
     "text": [
      "+-----------+---------------+----------+\n",
      "|VendorState|     VendorCity|QtyVendors|\n",
      "+-----------+---------------+----------+\n",
      "|         PA|   Philadelphia|         2|\n",
      "|         PA|Fort Washington|         1|\n",
      "|         PA|           null|         3|\n",
      "|         OH|        Oberlin|         1|\n",
      "|         OH|         Marion|         1|\n",
      "|         OH|       Columbus|         2|\n",
      "|         OH|         Cleves|         1|\n",
      "|         OH|     Cincinnati|         2|\n",
      "|         OH|           null|         7|\n",
      "|         NY|      Tarrytown|         1|\n",
      "|         NY|       New York|         1|\n",
      "|         NY|   New Rochelle|         1|\n",
      "|         NY|           null|         3|\n",
      "|       null|           null|        13|\n",
      "+-----------+---------------+----------+\n",
      "\n"
     ]
    }
   ],
   "source": [
    "# Return the number of VendorState and VendorCityfrom Vendors table, VendorStates are = PA, NY, OH\n",
    "# Add a summary row to each State & City\n",
    "spark.sql(\"\"\"\n",
    "SELECT VendorState, VendorCity, COUNT(*) AS QtyVendors\n",
    "FROM Vendors\n",
    "WHERE VendorState IN('PA','NY','OH')\n",
    "GROUP BY VendorState, VendorCity WITH ROLLUP\n",
    "ORDER BY VendorState DESC, VendorCity DESC\n",
    "\"\"\").show()"
   ]
  },
  {
   "cell_type": "code",
   "execution_count": 85,
   "metadata": {},
   "outputs": [
    {
     "name": "stdout",
     "output_type": "stream",
     "text": [
      "+----------------+-------------------+------------+---------+---------+---------+\n",
      "|   InvoiceNumber|        InvoiceDate|InvoiceTotal| MaxTotal|DateCount| MinTotal|\n",
      "+----------------+-------------------+------------+---------+---------+---------+\n",
      "|CBM9920-M-T77109|2012-02-23 00:00:00|     $290.00|  $290.00|        1|  $290.00|\n",
      "|      4-327-7357|2012-03-16 00:00:00|     $162.75|  $162.75|        1|  $162.75|\n",
      "|        25022117|2012-01-01 00:00:00|       $6.00|    $6.00|        1|    $6.00|\n",
      "|      989319-487|2012-02-20 00:00:00|   $1,927.54|$1,927.54|        1|$1,927.54|\n",
      "|      21-4923721|2012-01-13 00:00:00|       $9.95|    $9.95|        3|$1,750.00|\n",
      "|           77290|2012-01-13 00:00:00|   $1,750.00|    $9.95|        3|$1,750.00|\n",
      "+----------------+-------------------+------------+---------+---------+---------+\n",
      "\n"
     ]
    }
   ],
   "source": [
    "# Calculate the number of invoices, largest invoices, smallest invoices in the invoice table\n",
    "# Summarize data in a result set.(OVER Function) Return Individual Rows, columns InvoiceNumber, InvoiceDate, InvoiceTotal\n",
    "spark.sql(\"\"\"\n",
    "SELECT  InvoiceNumber, InvoiceDate, InvoiceTotal,\n",
    "MAX(InvoiceTotal) OVER (PARTITION BY InvoiceDate) AS MaxTotal,\n",
    "COUNT(InvoiceTotal) OVER (PARTITION BY InvoiceDate) AS DateCount,\n",
    "MIN(InvoiceTotal) OVER (PARTITION BY InvoiceDate) AS MinTotal\n",
    "FROM Invoices\n",
    "LIMIT 6\n",
    "\n",
    "\"\"\").show()"
   ]
  }
 ],
 "metadata": {
  "kernelspec": {
   "display_name": "Python 3",
   "language": "python",
   "name": "python3"
  },
  "language_info": {
   "codemirror_mode": {
    "name": "ipython",
    "version": 3
   },
   "file_extension": ".py",
   "mimetype": "text/x-python",
   "name": "python",
   "nbconvert_exporter": "python",
   "pygments_lexer": "ipython3",
   "version": "3.8.5"
  }
 },
 "nbformat": 4,
 "nbformat_minor": 4
}
